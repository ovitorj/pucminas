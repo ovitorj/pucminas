{
  "nbformat": 4,
  "nbformat_minor": 0,
  "metadata": {
    "colab": {
      "name": "BuscaTwitter.ipynb",
      "provenance": [],
      "collapsed_sections": [],
      "authorship_tag": "ABX9TyPR1d6p8WUx7MSO82dAcvUV",
      "include_colab_link": true
    },
    "kernelspec": {
      "name": "python3",
      "display_name": "Python 3"
    },
    "language_info": {
      "name": "python"
    }
  },
  "cells": [
    {
      "cell_type": "markdown",
      "metadata": {
        "id": "view-in-github",
        "colab_type": "text"
      },
      "source": [
        "<a href=\"https://colab.research.google.com/github/ovitorj/pucminas/blob/master/BuscaTwitter.ipynb\" target=\"_parent\"><img src=\"https://colab.research.google.com/assets/colab-badge.svg\" alt=\"Open In Colab\"/></a>"
      ]
    },
    {
      "cell_type": "markdown",
      "source": [
        ""
      ],
      "metadata": {
        "id": "7o4ALD_DnpsG"
      }
    },
    {
      "cell_type": "code",
      "source": [
        "import datetime\n",
        "import json\n",
        "import os"
      ],
      "metadata": {
        "id": "jvsJZ9Bvn9Jb"
      },
      "execution_count": null,
      "outputs": []
    },
    {
      "cell_type": "code",
      "source": [
        "pip install TwitterSearch"
      ],
      "metadata": {
        "id": "d-lYG2kaoNRW"
      },
      "execution_count": null,
      "outputs": []
    },
    {
      "cell_type": "code",
      "source": [
        "from TwitterSearch import * \n",
        "iCONECTA = TwitterSearch(\n",
        "        consumer_key='oxGQE4oXGgSLtF97ZaiHhEDg6',\n",
        "        consumer_secret='G6tNiGcEPAVXUxOMxmutOS67RtgVQgAHli8FFoVdNOkzscsVBy',\n",
        "        access_token='2875856894-1BJWKtvP7WHDwN0w00Ho5P6nrkAxvSSdRFwDW8Z',\n",
        "        access_token_secret='hEVZ1qM17nYgIylT3YuvgLhVBXiZMMuhAURL4hur3YQAT'\n",
        "    )"
      ],
      "metadata": {
        "id": "1yTt9zyioIuK"
      },
      "execution_count": null,
      "outputs": []
    },
    {
      "cell_type": "code",
      "execution_count": null,
      "metadata": {
        "id": "4fXPHqAVmBTL"
      },
      "outputs": [],
      "source": [
        "from TwitterSearch import * \n",
        "\n",
        "try:\n",
        "\n",
        "    # atribudos de busca\n",
        "    tso = TwitterSearchOrder()\n",
        "    tso.set_keywords(['@vivobr'])\n",
        "    tso.set_language('pt')\n",
        "    #tso.set_negative_attitude_filter() #traz os resultados com perfil negativo - opcional\n",
        "    #tso.set_since(datetime.date(2021, 1, 1))  # de(data) - opcional\n",
        "    # tso.set_until(datetime.date(2021, 12, 31))  # ate(data) - opcional\n",
        "    # tso.set_result_type('recent') #tipo de resultados {mixed,recent,popular} - opcional\n",
        "    # tso.set_positive_attitude_filter() #traz os resultados com perfil positivo - opcional\n",
        "    # tso.set_question_filter() #traz os resultados que contenham perguntas - opcional\n",
        "\n",
        "    count = 1\n",
        "    for tweet in iCONECTA.search_tweets_iterable(tso):\n",
        "\n",
        "        created_at = tweet['created_at']\n",
        "        user_id = tweet['id_str']\n",
        "        texto = tweet['text']\n",
        "\n",
        "        with open(\"tweet.json\", \"a+\") as output:\n",
        "\n",
        "            data = {\"created_at\": created_at,\n",
        "                    \"User_id\": user_id,\n",
        "                    \"tweet\": texto}\n",
        "\n",
        "            # guarda a lista no formato JSON\n",
        "            output.write(\"{}\\n\".format(json.dumps(data)))\n",
        "        print(data)\n",
        "        count += 1\n",
        "        if count > 1000:\n",
        "            break\n",
        "\n",
        "except TwitterSearchException as e:\n",
        "    print(e)\n"
      ]
    },
    {
      "cell_type": "code",
      "source": [
        "import pandas as pd\n",
        "df = pd.read_json('tweet.json',lines = True)\n",
        "df.head()"
      ],
      "metadata": {
        "id": "YY_9AwnInZga",
        "colab": {
          "base_uri": "https://localhost:8080/",
          "height": 206
        },
        "outputId": "75c46359-dd0a-4d1d-a484-43b19a8e42da"
      },
      "execution_count": null,
      "outputs": [
        {
          "output_type": "execute_result",
          "data": {
            "text/html": [
              "\n",
              "  <div id=\"df-1346136d-0206-4103-a963-5e0bf8d03e98\">\n",
              "    <div class=\"colab-df-container\">\n",
              "      <div>\n",
              "<style scoped>\n",
              "    .dataframe tbody tr th:only-of-type {\n",
              "        vertical-align: middle;\n",
              "    }\n",
              "\n",
              "    .dataframe tbody tr th {\n",
              "        vertical-align: top;\n",
              "    }\n",
              "\n",
              "    .dataframe thead th {\n",
              "        text-align: right;\n",
              "    }\n",
              "</style>\n",
              "<table border=\"1\" class=\"dataframe\">\n",
              "  <thead>\n",
              "    <tr style=\"text-align: right;\">\n",
              "      <th></th>\n",
              "      <th>created_at</th>\n",
              "      <th>User_id</th>\n",
              "      <th>tweet</th>\n",
              "    </tr>\n",
              "  </thead>\n",
              "  <tbody>\n",
              "    <tr>\n",
              "      <th>0</th>\n",
              "      <td>2022-02-22 10:54:28+00:00</td>\n",
              "      <td>1496075913276104704</td>\n",
              "      <td>a @vivobr agora diz que ta com instabilidade n...</td>\n",
              "    </tr>\n",
              "    <tr>\n",
              "      <th>1</th>\n",
              "      <td>2022-02-22 10:52:59+00:00</td>\n",
              "      <td>1496075540834537472</td>\n",
              "      <td>@vivobr estou sem sinal de telefone e internet...</td>\n",
              "    </tr>\n",
              "    <tr>\n",
              "      <th>2</th>\n",
              "      <td>2022-02-22 10:48:28+00:00</td>\n",
              "      <td>1496074405339971584</td>\n",
              "      <td>@IgorSeco @vivobr faz mais uma feijoada</td>\n",
              "    </tr>\n",
              "    <tr>\n",
              "      <th>3</th>\n",
              "      <td>2022-02-22 10:46:37+00:00</td>\n",
              "      <td>1496073939134656512</td>\n",
              "      <td>@tayaneferreiraa @Lmartinsufsj @vivobr @Anatel...</td>\n",
              "    </tr>\n",
              "    <tr>\n",
              "      <th>4</th>\n",
              "      <td>2022-02-22 10:44:45+00:00</td>\n",
              "      <td>1496073467673915392</td>\n",
              "      <td>@91juninho @Lmartinsufsj @vivobr @AnatelGovBR ...</td>\n",
              "    </tr>\n",
              "  </tbody>\n",
              "</table>\n",
              "</div>\n",
              "      <button class=\"colab-df-convert\" onclick=\"convertToInteractive('df-1346136d-0206-4103-a963-5e0bf8d03e98')\"\n",
              "              title=\"Convert this dataframe to an interactive table.\"\n",
              "              style=\"display:none;\">\n",
              "        \n",
              "  <svg xmlns=\"http://www.w3.org/2000/svg\" height=\"24px\"viewBox=\"0 0 24 24\"\n",
              "       width=\"24px\">\n",
              "    <path d=\"M0 0h24v24H0V0z\" fill=\"none\"/>\n",
              "    <path d=\"M18.56 5.44l.94 2.06.94-2.06 2.06-.94-2.06-.94-.94-2.06-.94 2.06-2.06.94zm-11 1L8.5 8.5l.94-2.06 2.06-.94-2.06-.94L8.5 2.5l-.94 2.06-2.06.94zm10 10l.94 2.06.94-2.06 2.06-.94-2.06-.94-.94-2.06-.94 2.06-2.06.94z\"/><path d=\"M17.41 7.96l-1.37-1.37c-.4-.4-.92-.59-1.43-.59-.52 0-1.04.2-1.43.59L10.3 9.45l-7.72 7.72c-.78.78-.78 2.05 0 2.83L4 21.41c.39.39.9.59 1.41.59.51 0 1.02-.2 1.41-.59l7.78-7.78 2.81-2.81c.8-.78.8-2.07 0-2.86zM5.41 20L4 18.59l7.72-7.72 1.47 1.35L5.41 20z\"/>\n",
              "  </svg>\n",
              "      </button>\n",
              "      \n",
              "  <style>\n",
              "    .colab-df-container {\n",
              "      display:flex;\n",
              "      flex-wrap:wrap;\n",
              "      gap: 12px;\n",
              "    }\n",
              "\n",
              "    .colab-df-convert {\n",
              "      background-color: #E8F0FE;\n",
              "      border: none;\n",
              "      border-radius: 50%;\n",
              "      cursor: pointer;\n",
              "      display: none;\n",
              "      fill: #1967D2;\n",
              "      height: 32px;\n",
              "      padding: 0 0 0 0;\n",
              "      width: 32px;\n",
              "    }\n",
              "\n",
              "    .colab-df-convert:hover {\n",
              "      background-color: #E2EBFA;\n",
              "      box-shadow: 0px 1px 2px rgba(60, 64, 67, 0.3), 0px 1px 3px 1px rgba(60, 64, 67, 0.15);\n",
              "      fill: #174EA6;\n",
              "    }\n",
              "\n",
              "    [theme=dark] .colab-df-convert {\n",
              "      background-color: #3B4455;\n",
              "      fill: #D2E3FC;\n",
              "    }\n",
              "\n",
              "    [theme=dark] .colab-df-convert:hover {\n",
              "      background-color: #434B5C;\n",
              "      box-shadow: 0px 1px 3px 1px rgba(0, 0, 0, 0.15);\n",
              "      filter: drop-shadow(0px 1px 2px rgba(0, 0, 0, 0.3));\n",
              "      fill: #FFFFFF;\n",
              "    }\n",
              "  </style>\n",
              "\n",
              "      <script>\n",
              "        const buttonEl =\n",
              "          document.querySelector('#df-1346136d-0206-4103-a963-5e0bf8d03e98 button.colab-df-convert');\n",
              "        buttonEl.style.display =\n",
              "          google.colab.kernel.accessAllowed ? 'block' : 'none';\n",
              "\n",
              "        async function convertToInteractive(key) {\n",
              "          const element = document.querySelector('#df-1346136d-0206-4103-a963-5e0bf8d03e98');\n",
              "          const dataTable =\n",
              "            await google.colab.kernel.invokeFunction('convertToInteractive',\n",
              "                                                     [key], {});\n",
              "          if (!dataTable) return;\n",
              "\n",
              "          const docLinkHtml = 'Like what you see? Visit the ' +\n",
              "            '<a target=\"_blank\" href=https://colab.research.google.com/notebooks/data_table.ipynb>data table notebook</a>'\n",
              "            + ' to learn more about interactive tables.';\n",
              "          element.innerHTML = '';\n",
              "          dataTable['output_type'] = 'display_data';\n",
              "          await google.colab.output.renderOutput(dataTable, element);\n",
              "          const docLink = document.createElement('div');\n",
              "          docLink.innerHTML = docLinkHtml;\n",
              "          element.appendChild(docLink);\n",
              "        }\n",
              "      </script>\n",
              "    </div>\n",
              "  </div>\n",
              "  "
            ],
            "text/plain": [
              "                 created_at  ...                                              tweet\n",
              "0 2022-02-22 10:54:28+00:00  ...  a @vivobr agora diz que ta com instabilidade n...\n",
              "1 2022-02-22 10:52:59+00:00  ...  @vivobr estou sem sinal de telefone e internet...\n",
              "2 2022-02-22 10:48:28+00:00  ...            @IgorSeco @vivobr faz mais uma feijoada\n",
              "3 2022-02-22 10:46:37+00:00  ...  @tayaneferreiraa @Lmartinsufsj @vivobr @Anatel...\n",
              "4 2022-02-22 10:44:45+00:00  ...  @91juninho @Lmartinsufsj @vivobr @AnatelGovBR ...\n",
              "\n",
              "[5 rows x 3 columns]"
            ]
          },
          "metadata": {},
          "execution_count": 14
        }
      ]
    },
    {
      "cell_type": "code",
      "source": [
        "#Remove os valores duplicados\n",
        "df.drop_duplicates(['tweet'], inplace=True)\n",
        "df.shape"
      ],
      "metadata": {
        "id": "FteuSU4yYLN9",
        "colab": {
          "base_uri": "https://localhost:8080/"
        },
        "outputId": "02e74aeb-ae2e-477c-a36d-9735a653c5b3"
      },
      "execution_count": null,
      "outputs": [
        {
          "output_type": "execute_result",
          "data": {
            "text/plain": [
              "(985, 3)"
            ]
          },
          "metadata": {},
          "execution_count": 15
        }
      ]
    },
    {
      "cell_type": "code",
      "source": [
        "#Filtra os valores a partir de uma máscara\n",
        "import re\n",
        "bug_words = 'problema|bug|falha|erro|erros|incidente|bugado|caiu|fora'\n",
        "mask = df['tweet'].str.contains(bug_words, case=False, na=False, flags=re.IGNORECASE, regex=True)\n",
        "\n",
        "df[mask].head(10) "
      ],
      "metadata": {
        "colab": {
          "base_uri": "https://localhost:8080/",
          "height": 363
        },
        "id": "O6nfEVaND88Y",
        "outputId": "69b868bb-6c4b-47f8-e587-fe48de5a018c"
      },
      "execution_count": null,
      "outputs": [
        {
          "output_type": "execute_result",
          "data": {
            "text/html": [
              "\n",
              "  <div id=\"df-17088f78-c223-4a19-ad1c-46816216e31c\">\n",
              "    <div class=\"colab-df-container\">\n",
              "      <div>\n",
              "<style scoped>\n",
              "    .dataframe tbody tr th:only-of-type {\n",
              "        vertical-align: middle;\n",
              "    }\n",
              "\n",
              "    .dataframe tbody tr th {\n",
              "        vertical-align: top;\n",
              "    }\n",
              "\n",
              "    .dataframe thead th {\n",
              "        text-align: right;\n",
              "    }\n",
              "</style>\n",
              "<table border=\"1\" class=\"dataframe\">\n",
              "  <thead>\n",
              "    <tr style=\"text-align: right;\">\n",
              "      <th></th>\n",
              "      <th>created_at</th>\n",
              "      <th>User_id</th>\n",
              "      <th>tweet</th>\n",
              "    </tr>\n",
              "  </thead>\n",
              "  <tbody>\n",
              "    <tr>\n",
              "      <th>19</th>\n",
              "      <td>2022-02-22 09:19:21+00:00</td>\n",
              "      <td>1496051977788264448</td>\n",
              "      <td>e aí @vivobr vamos resolver um problema SIMPLES?</td>\n",
              "    </tr>\n",
              "    <tr>\n",
              "      <th>32</th>\n",
              "      <td>2022-02-22 03:25:05+00:00</td>\n",
              "      <td>1495962822437744640</td>\n",
              "      <td>Só esperando a @vivobr resolver meu problema.\\...</td>\n",
              "    </tr>\n",
              "    <tr>\n",
              "      <th>42</th>\n",
              "      <td>2022-02-22 02:34:09+00:00</td>\n",
              "      <td>1495950007601713152</td>\n",
              "      <td>@vivobr oi, Vivo! Estou com um problema com vo...</td>\n",
              "    </tr>\n",
              "    <tr>\n",
              "      <th>76</th>\n",
              "      <td>2022-02-22 00:53:54+00:00</td>\n",
              "      <td>1495924778343018496</td>\n",
              "      <td>A @ClaroBrasil resolveu meu problema de falta ...</td>\n",
              "    </tr>\n",
              "    <tr>\n",
              "      <th>93</th>\n",
              "      <td>2022-02-22 00:23:11+00:00</td>\n",
              "      <td>1495917045145296896</td>\n",
              "      <td>@vivobr Boa noite, parece que resolveram o pro...</td>\n",
              "    </tr>\n",
              "    <tr>\n",
              "      <th>104</th>\n",
              "      <td>2022-02-21 23:49:42+00:00</td>\n",
              "      <td>1495908619975548928</td>\n",
              "      <td>@vivobr Olá, tudo bem? Tenho uma empresa de se...</td>\n",
              "    </tr>\n",
              "    <tr>\n",
              "      <th>137</th>\n",
              "      <td>2022-02-21 22:49:13+00:00</td>\n",
              "      <td>1495893401560100864</td>\n",
              "      <td>Eai @vivobr vai resolver meu problema ? Pedi q...</td>\n",
              "    </tr>\n",
              "    <tr>\n",
              "      <th>143</th>\n",
              "      <td>2022-02-21 22:35:50+00:00</td>\n",
              "      <td>1495890031893958656</td>\n",
              "      <td>@vivobr O app não adianta de nada. Não há nenh...</td>\n",
              "    </tr>\n",
              "    <tr>\n",
              "      <th>150</th>\n",
              "      <td>2022-02-21 22:23:06+00:00</td>\n",
              "      <td>1495886825654833152</td>\n",
              "      <td>Há 4 dias sem internet, vivo fibra. \\n2 visita...</td>\n",
              "    </tr>\n",
              "    <tr>\n",
              "      <th>174</th>\n",
              "      <td>2022-02-21 21:43:20+00:00</td>\n",
              "      <td>1495876818154532864</td>\n",
              "      <td>@vivobr Pode me ajudar, primeiramente, me aten...</td>\n",
              "    </tr>\n",
              "  </tbody>\n",
              "</table>\n",
              "</div>\n",
              "      <button class=\"colab-df-convert\" onclick=\"convertToInteractive('df-17088f78-c223-4a19-ad1c-46816216e31c')\"\n",
              "              title=\"Convert this dataframe to an interactive table.\"\n",
              "              style=\"display:none;\">\n",
              "        \n",
              "  <svg xmlns=\"http://www.w3.org/2000/svg\" height=\"24px\"viewBox=\"0 0 24 24\"\n",
              "       width=\"24px\">\n",
              "    <path d=\"M0 0h24v24H0V0z\" fill=\"none\"/>\n",
              "    <path d=\"M18.56 5.44l.94 2.06.94-2.06 2.06-.94-2.06-.94-.94-2.06-.94 2.06-2.06.94zm-11 1L8.5 8.5l.94-2.06 2.06-.94-2.06-.94L8.5 2.5l-.94 2.06-2.06.94zm10 10l.94 2.06.94-2.06 2.06-.94-2.06-.94-.94-2.06-.94 2.06-2.06.94z\"/><path d=\"M17.41 7.96l-1.37-1.37c-.4-.4-.92-.59-1.43-.59-.52 0-1.04.2-1.43.59L10.3 9.45l-7.72 7.72c-.78.78-.78 2.05 0 2.83L4 21.41c.39.39.9.59 1.41.59.51 0 1.02-.2 1.41-.59l7.78-7.78 2.81-2.81c.8-.78.8-2.07 0-2.86zM5.41 20L4 18.59l7.72-7.72 1.47 1.35L5.41 20z\"/>\n",
              "  </svg>\n",
              "      </button>\n",
              "      \n",
              "  <style>\n",
              "    .colab-df-container {\n",
              "      display:flex;\n",
              "      flex-wrap:wrap;\n",
              "      gap: 12px;\n",
              "    }\n",
              "\n",
              "    .colab-df-convert {\n",
              "      background-color: #E8F0FE;\n",
              "      border: none;\n",
              "      border-radius: 50%;\n",
              "      cursor: pointer;\n",
              "      display: none;\n",
              "      fill: #1967D2;\n",
              "      height: 32px;\n",
              "      padding: 0 0 0 0;\n",
              "      width: 32px;\n",
              "    }\n",
              "\n",
              "    .colab-df-convert:hover {\n",
              "      background-color: #E2EBFA;\n",
              "      box-shadow: 0px 1px 2px rgba(60, 64, 67, 0.3), 0px 1px 3px 1px rgba(60, 64, 67, 0.15);\n",
              "      fill: #174EA6;\n",
              "    }\n",
              "\n",
              "    [theme=dark] .colab-df-convert {\n",
              "      background-color: #3B4455;\n",
              "      fill: #D2E3FC;\n",
              "    }\n",
              "\n",
              "    [theme=dark] .colab-df-convert:hover {\n",
              "      background-color: #434B5C;\n",
              "      box-shadow: 0px 1px 3px 1px rgba(0, 0, 0, 0.15);\n",
              "      filter: drop-shadow(0px 1px 2px rgba(0, 0, 0, 0.3));\n",
              "      fill: #FFFFFF;\n",
              "    }\n",
              "  </style>\n",
              "\n",
              "      <script>\n",
              "        const buttonEl =\n",
              "          document.querySelector('#df-17088f78-c223-4a19-ad1c-46816216e31c button.colab-df-convert');\n",
              "        buttonEl.style.display =\n",
              "          google.colab.kernel.accessAllowed ? 'block' : 'none';\n",
              "\n",
              "        async function convertToInteractive(key) {\n",
              "          const element = document.querySelector('#df-17088f78-c223-4a19-ad1c-46816216e31c');\n",
              "          const dataTable =\n",
              "            await google.colab.kernel.invokeFunction('convertToInteractive',\n",
              "                                                     [key], {});\n",
              "          if (!dataTable) return;\n",
              "\n",
              "          const docLinkHtml = 'Like what you see? Visit the ' +\n",
              "            '<a target=\"_blank\" href=https://colab.research.google.com/notebooks/data_table.ipynb>data table notebook</a>'\n",
              "            + ' to learn more about interactive tables.';\n",
              "          element.innerHTML = '';\n",
              "          dataTable['output_type'] = 'display_data';\n",
              "          await google.colab.output.renderOutput(dataTable, element);\n",
              "          const docLink = document.createElement('div');\n",
              "          docLink.innerHTML = docLinkHtml;\n",
              "          element.appendChild(docLink);\n",
              "        }\n",
              "      </script>\n",
              "    </div>\n",
              "  </div>\n",
              "  "
            ],
            "text/plain": [
              "                   created_at  ...                                              tweet\n",
              "19  2022-02-22 09:19:21+00:00  ...   e aí @vivobr vamos resolver um problema SIMPLES?\n",
              "32  2022-02-22 03:25:05+00:00  ...  Só esperando a @vivobr resolver meu problema.\\...\n",
              "42  2022-02-22 02:34:09+00:00  ...  @vivobr oi, Vivo! Estou com um problema com vo...\n",
              "76  2022-02-22 00:53:54+00:00  ...  A @ClaroBrasil resolveu meu problema de falta ...\n",
              "93  2022-02-22 00:23:11+00:00  ...  @vivobr Boa noite, parece que resolveram o pro...\n",
              "104 2022-02-21 23:49:42+00:00  ...  @vivobr Olá, tudo bem? Tenho uma empresa de se...\n",
              "137 2022-02-21 22:49:13+00:00  ...  Eai @vivobr vai resolver meu problema ? Pedi q...\n",
              "143 2022-02-21 22:35:50+00:00  ...  @vivobr O app não adianta de nada. Não há nenh...\n",
              "150 2022-02-21 22:23:06+00:00  ...  Há 4 dias sem internet, vivo fibra. \\n2 visita...\n",
              "174 2022-02-21 21:43:20+00:00  ...  @vivobr Pode me ajudar, primeiramente, me aten...\n",
              "\n",
              "[10 rows x 3 columns]"
            ]
          },
          "metadata": {},
          "execution_count": 16
        }
      ]
    },
    {
      "cell_type": "code",
      "source": [
        "df[mask].shape"
      ],
      "metadata": {
        "id": "jMWouf_gYPKC",
        "colab": {
          "base_uri": "https://localhost:8080/"
        },
        "outputId": "af527658-c11b-406e-897f-b7b639311e8b"
      },
      "execution_count": null,
      "outputs": [
        {
          "output_type": "execute_result",
          "data": {
            "text/plain": [
              "(61, 3)"
            ]
          },
          "metadata": {},
          "execution_count": 17
        }
      ]
    },
    {
      "cell_type": "code",
      "source": [
        " #Exportar máscara para CSV\n",
        " df[mask].to_csv(os.path.abspath(os.getcwd()) + f'/output_tweets.csv', index=False, header=True) #Exportar CSV"
      ],
      "metadata": {
        "id": "wPkmh_nnf4Xd"
      },
      "execution_count": null,
      "outputs": []
    }
  ]
}